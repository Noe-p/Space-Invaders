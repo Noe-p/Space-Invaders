{
 "cells": [
  {
   "cell_type": "code",
   "execution_count": null,
   "metadata": {},
   "outputs": [],
   "source": []
  },
  {
   "cell_type": "code",
   "execution_count": 127,
   "metadata": {},
   "outputs": [],
   "source": [
    "try:  # import as appropriate for 2.x vs. 3.x\n",
    "    import tkinter as tk\n",
    "    import tkinter.messagebox as tkMessageBox\n",
    "except:\n",
    "    import Tkinter as tk\n",
    "    import tkMessageBox\n",
    "    "
   ]
  },
  {
   "cell_type": "code",
   "execution_count": 128,
   "metadata": {},
   "outputs": [],
   "source": [
    "class Defender:\n",
    "    def __init__(self):\n",
    "        self.width = 20\n",
    "        self.height = 20\n",
    "        self.move_delta = 20\n",
    "        self.id = None\n",
    "        self.max_fired_bullets = 8\n",
    "        self.fired_bullets = []\n",
    "\n",
    "    def install_in(self, canvas): #carre blanc\n",
    "        if self.id is not None: return\n",
    "        cx = int(canvas.cget(\"width\"))\n",
    "        cy = int(canvas.cget(\"height\")) \n",
    "        lx = cx / 2 + self.width / 2\n",
    "        ly = cy - self.height - 10\n",
    "        self.id = canvas.create_rectangle(lx,ly, lx + self.width ,ly + self.height ,outline='black',fill='white')\n",
    "    \n",
    "    \n",
    "    def coord(self, canvas):\n",
    "        return canvas.coords(self.id)\n",
    "    \n",
    "    def delete(self, bullet):\n",
    "        if len(self.fired_bullets)!=0:\n",
    "            self.fired_bullets.remove(bullet)\n",
    "        \n",
    "\n",
    "    def move_in(self, canvas, deplacement):\n",
    "        max_canvas = int(canvas.cget(\"width\"))\n",
    "        maxi = self.coord(canvas)[0]\n",
    "        if deplacement < 0:\n",
    "            if maxi + self.width > self.width: \n",
    "                canvas.move(self.id, deplacement, 0)\n",
    "        else:\n",
    "            if maxi + self.width < max_canvas: \n",
    "                canvas.move(self.id, deplacement, 0)\n",
    "    \n",
    "    def animation_projectil(self, canvas):\n",
    "        for i in self.fired_bullets:\n",
    "            i.move_in(canvas)\n",
    "        \n",
    "    def fire(self, canvas):\n",
    "        if len(self.fired_bullets) != self.max_fired_bullets: \n",
    "            Bullet(self).install_in(canvas)"
   ]
  },
  {
   "cell_type": "code",
   "execution_count": 129,
   "metadata": {},
   "outputs": [],
   "source": [
    "class Alien(object):\n",
    "    def __init__(self):\n",
    "        self.id = None\n",
    "        self.alive = True\n",
    "    def touched_by(self, canvas, projectile):\n",
    "        0\n",
    "    def install_in(self, canvas, x, y, image, tag):\n",
    "        0\n",
    "    def move_in(self, canvas, dx, dy):\n",
    "        0"
   ]
  },
  {
   "cell_type": "code",
   "execution_count": 130,
   "metadata": {},
   "outputs": [],
   "source": [
    "class Fleet(object):\n",
    "    def __init__(self):\n",
    "        self.aliens_lines = 5\n",
    "        self.aliens_columns = 10\n",
    "        self.aliens_inner_gap = 20\n",
    "        self.alien_x_delta = 5\n",
    "        self.alien_y_delta = 15\n",
    "        fleet_size = self.aliens_lines * self.aliens_columns\n",
    "        self.aliens_fleet = [None] * fleet_size\n",
    "    def install_in(self, canvas):\n",
    "        0\n",
    "    def move_in(self, canvas):\n",
    "        0\n",
    "    def manage_touched_aliens_by(self,canvas,defender):\n",
    "        0\n",
    "    def get_width(self):\n",
    "        return 700"
   ]
  },
  {
   "cell_type": "code",
   "execution_count": 131,
   "metadata": {},
   "outputs": [],
   "source": [
    "class Bullet(object):\n",
    "    def __init__(self, shooter):\n",
    "        self.radius = 5\n",
    "        self.color = \"red\"\n",
    "        self.speed = 8\n",
    "        self.id = None\n",
    "        self.shooter = shooter\n",
    "    \n",
    "    def install_in(self, canvas):\n",
    "        if self.id == None:\n",
    "            cx=self.shooter.coord(canvas)[0] +self.shooter.width/2 - self.radius\n",
    "            cy=self.shooter.coord(canvas)[1] - self.radius*2\n",
    "            self.id = canvas.create_oval(cx, cy,cx + self.radius*2, cy + self.radius*2, fill=self.color)\n",
    "            self.shooter.fired_bullets.append(self)\n",
    "    \n",
    "\n",
    "    def move_in(self, canvas):\n",
    "        dx = 0\n",
    "        dy = - self.speed\n",
    "        canvas.move(self.id, dx, dy)\n",
    "        "
   ]
  },
  {
   "cell_type": "code",
   "execution_count": 132,
   "metadata": {},
   "outputs": [],
   "source": [
    "class Game(object):\n",
    "    def __init__(self, frame):\n",
    "        self.frame = frame\n",
    "        self.fleet = Fleet()\n",
    "        self.defender = Defender()\n",
    "        self.height =800\n",
    "        self.width = self.fleet.get_width()\n",
    "        self.canvas = tk.Canvas(self.frame, width=self.width, height=self.height, background=\"black\")\n",
    "        self.canvas.pack(side=\"top\", fill=\"both\", expand=True)\n",
    "\n",
    "        self.defender.install_in(self.canvas)\n",
    "        self.fleet.install_in(self.canvas)\n",
    "        self.frame.winfo_toplevel().bind(\"<Key>\", self.keypressed)\n",
    "\n",
    "    \n",
    "    def keypressed(self, event):\n",
    "        if event.keysym == 'Left':\n",
    "            self.defender.move_in(self.canvas, -self.defender.move_delta)\n",
    "        elif event.keysym == 'Right':\n",
    "            self.defender.move_in(self.canvas, self.defender.move_delta)\n",
    "        elif event.keysym == 'space':\n",
    "            self.defender.fire(self.canvas)\n",
    "    \n",
    "    def start_animation(self):\n",
    "        self.frame.after(10, self.animation)\n",
    "    \n",
    "    def animation(self):\n",
    "        self.defender.animation_projectil(self.canvas)\n",
    "        self.canvas.after(300, self.animation)\n",
    "\n",
    "    def move_aliens_fleet(self):\n",
    "        0"
   ]
  },
  {
   "cell_type": "code",
   "execution_count": 134,
   "metadata": {},
   "outputs": [],
   "source": [
    "import tkinter as tk\n",
    "class SpaceInvaders(object):\n",
    "    \n",
    "    \n",
    "    def __init__(self):\n",
    "        self.root = tk.Tk()\n",
    "        self.root.title(\"Space Invaders\")\n",
    "        self.frame = tk.Frame(self.root)\n",
    "        self.frame.pack(side=\"top\", fill=\"both\", expand=True)\n",
    "        self.game = Game(self.frame)\n",
    "    def play(self):\n",
    "        self.game.start_animation()\n",
    "        self.root.mainloop()\n",
    "        \n",
    "        \n",
    "SpaceInvaders().play()"
   ]
  },
  {
   "cell_type": "code",
   "execution_count": null,
   "metadata": {},
   "outputs": [],
   "source": []
  },
  {
   "cell_type": "code",
   "execution_count": null,
   "metadata": {},
   "outputs": [],
   "source": []
  },
  {
   "cell_type": "code",
   "execution_count": null,
   "metadata": {},
   "outputs": [],
   "source": []
  },
  {
   "cell_type": "code",
   "execution_count": null,
   "metadata": {},
   "outputs": [],
   "source": []
  },
  {
   "cell_type": "code",
   "execution_count": null,
   "metadata": {},
   "outputs": [],
   "source": []
  },
  {
   "cell_type": "code",
   "execution_count": null,
   "metadata": {},
   "outputs": [],
   "source": []
  }
 ],
 "metadata": {
  "kernelspec": {
   "display_name": "Python 3",
   "language": "python",
   "name": "python3"
  },
  "language_info": {
   "codemirror_mode": {
    "name": "ipython",
    "version": 3
   },
   "file_extension": ".py",
   "mimetype": "text/x-python",
   "name": "python",
   "nbconvert_exporter": "python",
   "pygments_lexer": "ipython3",
   "version": "3.8.5"
  }
 },
 "nbformat": 4,
 "nbformat_minor": 4
}
